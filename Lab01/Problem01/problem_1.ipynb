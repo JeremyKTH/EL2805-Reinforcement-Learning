{
  "nbformat": 4,
  "nbformat_minor": 0,
  "metadata": {
    "colab": {
      "name": "problem_1.ipynb",
      "provenance": [],
      "collapsed_sections": [],
      "toc_visible": true
    },
    "kernelspec": {
      "name": "python3",
      "display_name": "Python 3"
    },
    "accelerator": "GPU"
  },
  "cells": [
    {
      "cell_type": "code",
      "metadata": {
        "id": "aN8F8Tp8dubL"
      },
      "source": [
        "import numpy as np\n",
        "import problem_1 as mz\n",
        "import matplotlib.pyplot as plt\n",
        "from tqdm import tqdm\n",
        "from PIL import Image\n",
        "\n",
        "# Description of the maze as a numpy array\n",
        "maze = np.array([\n",
        "      [0, 0, 1, 0, 0, 0, 0, 0],\n",
        "      [0, 0, 1, 0, 0, 1, 0, 0],\n",
        "      [0, 0, 1, 0, 0, 1, 1, 1],\n",
        "      [0, 0, 1, 0, 0, 1, 0, 0],\n",
        "      [0, 0, 0, 0, 0, 0, 0, 0],\n",
        "      [0, 1, 1, 1, 1, 1, 1, 0],\n",
        "      [0, 0, 0, 0, 1, 2, 0, 0],\n",
        "])\n",
        "# 0 = empty cell\n",
        "# 1 = obstable\n",
        "# 2 = Exit / Minotaur"
      ],
      "execution_count": null,
      "outputs": []
    },
    {
      "cell_type": "code",
      "metadata": {
        "id": "Dk-K8KVvmfn2",
        "colab": {
          "base_uri": "https://localhost:8080/",
          "height": 431
        },
        "outputId": "f2f03f11-5bc1-4216-a3ea-9a8f87876949"
      },
      "source": [
        "mz.draw_maze(maze)"
      ],
      "execution_count": null,
      "outputs": [
        {
          "output_type": "display_data",
          "data": {
            "image/png": "[encoded data removed]",
            "text/plain": [
              "<Figure size 576x504 with 1 Axes>"
            ]
          },
          "metadata": {
            "tags": []
          }
        }
      ]
    },
    {
      "cell_type": "markdown",
      "metadata": {
        "id": "Sys7dL-Lp9ty"
      },
      "source": [
        "# Solving the problem with finite time horizon"
      ]
    },
    {
      "cell_type": "code",
      "metadata": {
        "id": "Xx-EHjXJmj3f"
      },
      "source": [
        "# Create an environment maze\n",
        "env = mz.Maze(maze, minotaur_cant_stay = True)\n",
        "#env = mz.Maze(maze)"
      ],
      "execution_count": null,
      "outputs": []
    },
    {
      "cell_type": "markdown",
      "metadata": {
        "id": "LmQzBLH4D7i4"
      },
      "source": [
        "Dynamic programming"
      ]
    },
    {
      "cell_type": "code",
      "metadata": {
        "id": "0zPA-1qUmplj",
        "colab": {
          "base_uri": "https://localhost:8080/"
        },
        "outputId": "9e09f76c-6471-4972-8580-f37450e5c7cc"
      },
      "source": [
        "# Finite horizon\n",
        "horizon = 20\n",
        "# Solve the MDP problem with dynamic programming \n",
        "V, policy= mz.dynamic_programming(env,horizon)\n",
        "\n",
        "start  = (0,0,6,5)\n",
        "start_state = env.map[start]\n",
        "print(f\"Maximal probability of exiting the maze {V[start_state,0]}\")"
      ],
      "execution_count": null,
      "outputs": [
        {
          "output_type": "stream",
          "text": [
            "Maximal probability of exiting the maze 1.0\n"
          ],
          "name": "stdout"
        }
      ]
    },
    {
      "cell_type": "code",
      "metadata": {
        "id": "NLzqu5V8myCL"
      },
      "source": [
        "method = 'DynProg'\n",
        "path = env.simulate(start, policy, method)"
      ],
      "execution_count": null,
      "outputs": []
    },
    {
      "cell_type": "code",
      "metadata": {
        "id": "0di0IzwltKHC",
        "colab": {
          "base_uri": "https://localhost:8080/",
          "height": 431
        },
        "outputId": "b71e960a-baf2-4d6d-e93a-f36f0db4c56b"
      },
      "source": [
        "# Play the game \n",
        "mz.animate_solution(maze, path)"
      ],
      "execution_count": null,
      "outputs": [
        {
          "output_type": "display_data",
          "data": {
            "image/png": "[encoded data removed]",
            "text/plain": [
              "<Figure size 576x504 with 1 Axes>"
            ]
          },
          "metadata": {
            "tags": []
          }
        }
      ]
    },
    {
      "cell_type": "markdown",
      "metadata": {
        "id": "Wsybxa1braWo"
      },
      "source": [
        "**Maximal probability of exiting the maze w.r.t T when minotaur CANNOT stay**"
      ]
    },
    {
      "cell_type": "code",
      "metadata": {
        "colab": {
          "base_uri": "https://localhost:8080/",
          "height": 312
        },
        "id": "bMLxPjK4crVn",
        "outputId": "306ab949-7fbf-45bb-b99a-45fc97d78e48"
      },
      "source": [
        "env = mz.Maze(maze, minotaur_cant_stay=True)\n",
        "start  = (0,0,6,5)\n",
        "start_state = env.map[start]\n",
        "max_probs = []\n",
        "for T in tqdm(range(0,31)):\n",
        "    horizon = T    \n",
        "    # Solve the MDP problem with dynamic programming \n",
        "    V, policy= mz.dynamic_programming(env,horizon)\n",
        "    # Value of start state at t=0\n",
        "    max_probs.append(V[start_state, 0]) \n",
        "_ = plt.title(\"Minotaur cannot stay\")\n",
        "_ = plt.grid(\"on\")\n",
        "_ = plt.xlabel(\"Time Horizon T\")\n",
        "_ = plt.ylabel(\"Max P(escape)\")\n",
        "_ = plt.scatter(range(0,len(max_probs)), max_probs)\n",
        "_ = plt.savefig(\"Minotaur cannot stay.png\")"
      ],
      "execution_count": null,
      "outputs": [
        {
          "output_type": "stream",
          "text": [
            "100%|██████████| 31/31 [02:32<00:00,  4.91s/it]\n"
          ],
          "name": "stderr"
        },
        {
          "output_type": "display_data",
          "data": {
            "image/png": "[encoded data removed]",
            "text/plain": [
              "<Figure size 432x288 with 1 Axes>"
            ]
          },
          "metadata": {
            "tags": [],
            "needs_background": "light"
          }
        }
      ]
    },
    {
      "cell_type": "markdown",
      "metadata": {
        "id": "VGvejDP8riGl"
      },
      "source": [
        "**Maximal probability of exiting the maze w.r.t T when minotaur CAN stay**"
      ]
    },
    {
      "cell_type": "code",
      "metadata": {
        "colab": {
          "base_uri": "https://localhost:8080/",
          "height": 312
        },
        "id": "9-bbgC_op0ej",
        "outputId": "fcaf754f-6a24-4e09-dfe6-a159d810baec"
      },
      "source": [
        "# Maximal probability of exiting the maze w.r.t T when minotaur can stay\n",
        "env = mz.Maze(maze, minotaur_cant_stay=False)\n",
        "start  = (0,0,6,5)\n",
        "start_state = env.map[start]\n",
        "max_probs = []\n",
        "for T in tqdm(range(1,31)):\n",
        "    horizon = T    \n",
        "    # Solve the MDP problem with dynamic programming \n",
        "    V, policy= mz.dynamic_programming(env,horizon)\n",
        "    # Value of start state at t=0\n",
        "    max_probs.append(V[start_state, 0]) \n",
        "_ = plt.title(\"When minotaur can stay\")\n",
        "_ = plt.grid(\"on\")\n",
        "_ = plt.xlabel(\"Time Horizon T\")\n",
        "_ = plt.ylabel(\"Max P(escape)\")\n",
        "_ = plt.scatter(range(0,len(max_probs)), max_probs)\n",
        "_ = plt.savefig(\"When minotaur can stay.png\")"
      ],
      "execution_count": null,
      "outputs": [
        {
          "output_type": "stream",
          "text": [
            "100%|██████████| 30/30 [02:26<00:00,  4.89s/it]\n"
          ],
          "name": "stderr"
        },
        {
          "output_type": "display_data",
          "data": {
            "image/png": "[encoded data removed]",
            "text/plain": [
              "<Figure size 432x288 with 1 Axes>"
            ]
          },
          "metadata": {
            "tags": [],
            "needs_background": "light"
          }
        }
      ]
    },
    {
      "cell_type": "markdown",
      "metadata": {
        "id": "jb41-SgArnCK"
      },
      "source": [
        "# Solving the problem with infinite time horizon"
      ]
    },
    {
      "cell_type": "markdown",
      "metadata": {
        "id": "3LuPpwRM9h8G"
      },
      "source": [
        "Value Iteration"
      ]
    },
    {
      "cell_type": "code",
      "metadata": {
        "id": "VviWtVeVrxWX",
        "colab": {
          "base_uri": "https://localhost:8080/"
        },
        "outputId": "98b1f0b5-f0a6-4bb0-c9c5-fd56712b7dae"
      },
      "source": [
        "env = mz.Maze(maze, minotaur_cant_stay=True)\n",
        "start  = (0,0,6,5)\n",
        "start_state = env.map[start]\n",
        "# Mean lifetime\n",
        "mean_lifetime = 30\n",
        "# Discount Factor \n",
        "gamma   = 1 - (1/mean_lifetime);\n",
        "# Accuracy threshold \n",
        "epsilon = 0.0001\n",
        "V, policy = mz.value_iteration(env, gamma, epsilon)"
      ],
      "execution_count": null,
      "outputs": [
        {
          "output_type": "stream",
          "text": [
            "Maximal probability of exiting the maze 0.7385691026454033\n"
          ],
          "name": "stdout"
        }
      ]
    },
    {
      "cell_type": "code",
      "metadata": {
        "id": "_6i3UItx9Tgo"
      },
      "source": [
        "method = 'ValIter'\n",
        "path = env.simulate(start, policy, method)"
      ],
      "execution_count": null,
      "outputs": []
    },
    {
      "cell_type": "code",
      "metadata": {
        "colab": {
          "base_uri": "https://localhost:8080/",
          "height": 431
        },
        "id": "WtetD3Q79b0v",
        "outputId": "2884ce13-4b33-4187-9ad2-06c2dcbf26ea"
      },
      "source": [
        "# Play the game \n",
        "mz.animate_solution(maze, path)"
      ],
      "execution_count": null,
      "outputs": [
        {
          "output_type": "display_data",
          "data": {
            "image/png": "[encoded data removed]",
            "text/plain": [
              "<Figure size 576x504 with 1 Axes>"
            ]
          },
          "metadata": {
            "tags": []
          }
        }
      ]
    },
    {
      "cell_type": "markdown",
      "metadata": {
        "id": "8txQ4b68r6hX"
      },
      "source": [
        "**Simulate 10,000 games to evaluate the policy**"
      ]
    },
    {
      "cell_type": "code",
      "metadata": {
        "colab": {
          "base_uri": "https://localhost:8080/"
        },
        "id": "bNKJTlWWr5q1",
        "outputId": "aa3bc6fc-cbbf-4fc7-a404-9a7a7907d030"
      },
      "source": [
        "method = 'ValIter'\n",
        "sims = 10000\n",
        "wins = 0\n",
        "for i in range(sims):\n",
        "    path = env.simulate(start, policy, method)\n",
        "    if path[-1] == 'WIN':\n",
        "        wins += 1\n",
        "print(f\"Probability of exiting the maze {wins/sims}\")"
      ],
      "execution_count": null,
      "outputs": [
        {
          "output_type": "stream",
          "text": [
            "Probability of exiting the maze 1.0\n"
          ],
          "name": "stdout"
        }
      ]
    }
  ]
}